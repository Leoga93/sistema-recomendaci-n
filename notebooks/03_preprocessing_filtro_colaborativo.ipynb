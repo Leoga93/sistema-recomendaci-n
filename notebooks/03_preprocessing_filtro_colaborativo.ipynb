{
 "cells": [
  {
   "cell_type": "markdown",
   "metadata": {},
   "source": [
    "# Preprocesamiento de datos para el sistema del filtro colaborativo"
   ]
  },
  {
   "cell_type": "code",
   "execution_count": 1,
   "metadata": {},
   "outputs": [
    {
     "name": "stdout",
     "output_type": "stream",
     "text": [
      "Carga exítosa, el archivo tiene un tamaño de: (51290, 9)\n"
     ]
    }
   ],
   "source": [
    "import pandas as pd\n",
    "import os\n",
    "\n",
    "\n",
    "# Definir ruta del archivo\n",
    "base_dir = os.path.dirname(os.getcwd())\n",
    "\n",
    "try:\n",
    "    # Cargar el archivo\n",
    "    url = os.path.join(base_dir, \"data\", \"processed\", \"processed_data.csv\")\n",
    "    data = pd.read_csv(url, sep=\",\", encoding=\"utf-8\")\n",
    "    print(\"Carga exítosa, el archivo tiene un tamaño de:\", data.shape)\n",
    "    \n",
    "except FileNotFoundError:\n",
    "    print(\"Error: archivo no encontrado. Verífica la ruta.\")\n",
    "    \n",
    "except PermissionError:\n",
    "    print(\"Error: No tienes permiso para acceder al archivo.\")\n",
    "    \n",
    "except pd.errors.EmptyDataError:\n",
    "    print(\"El error esta vacío\")\n",
    "    \n",
    "except pd.errors.ParserError:\n",
    "    print(\"Error: Fallo al analizar el archivo. Verifica el formato\")\n",
    "    \n",
    "except Exception as e:\n",
    "    print(f\"Error inesperado: {e}\")"
   ]
  },
  {
   "cell_type": "markdown",
   "metadata": {},
   "source": [
    "### Filtrando productos de tecnología"
   ]
  },
  {
   "cell_type": "code",
   "execution_count": 2,
   "metadata": {},
   "outputs": [],
   "source": [
    "# Filtrado de productos solo tecnología\n",
    "data = data[data[\"Category\"] == \"Technology\"]"
   ]
  },
  {
   "cell_type": "markdown",
   "metadata": {},
   "source": [
    "### Creando matriz usuarios-items"
   ]
  },
  {
   "cell_type": "code",
   "execution_count": 3,
   "metadata": {},
   "outputs": [],
   "source": [
    "# Creando la matriz usuarios-items\n",
    "user_matriz_item = data.pivot_table(\n",
    "    index=\"Customer ID\", \n",
    "    columns=\"Product ID\", \n",
    "    values=\"Quantity\", \n",
    "    fill_value=0\n",
    "    )\n",
    "\n",
    "# Convertir a valores binarios (1 si hay compra, 0 si no hay)\n",
    "user_matriz_item = (user_matriz_item > 0).astype(int)"
   ]
  },
  {
   "cell_type": "markdown",
   "metadata": {},
   "source": [
    "### Filtrando usuarios que realizarón compras"
   ]
  },
  {
   "cell_type": "code",
   "execution_count": 4,
   "metadata": {},
   "outputs": [
    {
     "data": {
      "text/plain": [
       "(1301, 2375)"
      ]
     },
     "execution_count": 4,
     "metadata": {},
     "output_type": "execute_result"
    }
   ],
   "source": [
    "# Eliminar usuarios(filas) que no hayan realizado compras\n",
    "user_matriz_item = user_matriz_item.loc[\n",
    "    (user_matriz_item != 0).any(axis=1)\n",
    "    ]\n",
    "\n",
    "# Mostrar el tamaño de la matriz resultante\n",
    "user_matriz_item.shape"
   ]
  },
  {
   "cell_type": "markdown",
   "metadata": {},
   "source": [
    "### Exportando la matriz usuarios-items"
   ]
  },
  {
   "cell_type": "code",
   "execution_count": 5,
   "metadata": {},
   "outputs": [
    {
     "name": "stdout",
     "output_type": "stream",
     "text": [
      "Archivo guardado exítosamente en: C:/Users/USUARIO/Desktop/Proyectos/Sistema_recomendacion/data/processed/users_matriz_items.csv\n"
     ]
    }
   ],
   "source": [
    "# Definir la ruta de guardado de la matriz\n",
    "save_url = (\n",
    "    \"C:/Users/USUARIO/Desktop/Proyectos/Sistema_recomendacion/data/processed/users_matriz_items.csv\"\n",
    "            )\n",
    "\n",
    "# Guardar la matriz en formato csv\n",
    "user_matriz_item.to_csv(save_url, index=True)\n",
    "\n",
    "print(f\"Archivo guardado exítosamente en: {save_url}\")"
   ]
  }
 ],
 "metadata": {
  "kernelspec": {
   "display_name": "venv_recomendacion",
   "language": "python",
   "name": "python3"
  },
  "language_info": {
   "codemirror_mode": {
    "name": "ipython",
    "version": 3
   },
   "file_extension": ".py",
   "mimetype": "text/x-python",
   "name": "python",
   "nbconvert_exporter": "python",
   "pygments_lexer": "ipython3",
   "version": "3.11.7"
  }
 },
 "nbformat": 4,
 "nbformat_minor": 2
}
